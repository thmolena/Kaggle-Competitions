{
 "cells": [
  {
   "cell_type": "code",
   "execution_count": 1,
   "metadata": {
    "_cell_guid": "b1076dfc-b9ad-4769-8c92-a6c4dae69d19",
    "_uuid": "8f2839f25d086af736a60e9eeb907d3b93b6e0e5",
    "execution": {
     "iopub.execute_input": "2021-02-16T05:09:21.554033Z",
     "iopub.status.busy": "2021-02-16T05:09:21.553311Z",
     "iopub.status.idle": "2021-02-16T05:09:21.560981Z",
     "shell.execute_reply": "2021-02-16T05:09:21.561506Z"
    },
    "papermill": {
     "duration": 0.024405,
     "end_time": "2021-02-16T05:09:21.561801",
     "exception": false,
     "start_time": "2021-02-16T05:09:21.537396",
     "status": "completed"
    },
    "tags": []
   },
   "outputs": [
    {
     "name": "stdout",
     "output_type": "stream",
     "text": [
      "/kaggle/input/house-prices-advanced-regression-techniques/sample_submission.csv\n",
      "/kaggle/input/house-prices-advanced-regression-techniques/data_description.txt\n",
      "/kaggle/input/house-prices-advanced-regression-techniques/train.csv\n",
      "/kaggle/input/house-prices-advanced-regression-techniques/test.csv\n"
     ]
    }
   ],
   "source": [
    "# This Python 3 environment comes with many helpful analytics libraries installed\n",
    "# It is defined by the kaggle/python Docker image: https://github.com/kaggle/docker-python\n",
    "# For example, here's several helpful packages to load\n",
    "\n",
    "import numpy as np # linear algebra\n",
    "import pandas as pd # data processing, CSV file I/O (e.g. pd.read_csv)\n",
    "\n",
    "# Input data files are available in the read-only \"../input/\" directory\n",
    "# For example, running this (by clicking run or pressing Shift+Enter) will list all files under the input directory\n",
    "\n",
    "import os\n",
    "for dirname, _, filenames in os.walk('/kaggle/input'):\n",
    "    for filename in filenames:\n",
    "        print(os.path.join(dirname, filename))\n",
    "\n",
    "# You can write up to 20GB to the current directory (/kaggle/working/) that gets preserved as output when you create a version using \"Save & Run All\" \n",
    "# You can also write temporary files to /kaggle/temp/, but they won't be saved outside of the current session"
   ]
  },
  {
   "cell_type": "markdown",
   "metadata": {
    "papermill": {
     "duration": 0.01163,
     "end_time": "2021-02-16T05:09:21.585988",
     "exception": false,
     "start_time": "2021-02-16T05:09:21.574358",
     "status": "completed"
    },
    "tags": []
   },
   "source": [
    "Importing Essentials"
   ]
  },
  {
   "cell_type": "code",
   "execution_count": 2,
   "metadata": {
    "execution": {
     "iopub.execute_input": "2021-02-16T05:09:21.613315Z",
     "iopub.status.busy": "2021-02-16T05:09:21.612693Z",
     "iopub.status.idle": "2021-02-16T05:09:22.487482Z",
     "shell.execute_reply": "2021-02-16T05:09:22.485932Z"
    },
    "papermill": {
     "duration": 0.889627,
     "end_time": "2021-02-16T05:09:22.487640",
     "exception": false,
     "start_time": "2021-02-16T05:09:21.598013",
     "status": "completed"
    },
    "tags": []
   },
   "outputs": [],
   "source": [
    "import numpy as np\n",
    "import pandas as pd\n",
    "\n",
    "import matplotlib.pyplot as plt\n",
    "import seaborn as sns\n",
    "\n",
    "from sklearn.preprocessing import OneHotEncoder"
   ]
  },
  {
   "cell_type": "code",
   "execution_count": 3,
   "metadata": {
    "execution": {
     "iopub.execute_input": "2021-02-16T05:09:22.517652Z",
     "iopub.status.busy": "2021-02-16T05:09:22.517029Z",
     "iopub.status.idle": "2021-02-16T05:09:22.520220Z",
     "shell.execute_reply": "2021-02-16T05:09:22.519592Z"
    },
    "papermill": {
     "duration": 0.020475,
     "end_time": "2021-02-16T05:09:22.520358",
     "exception": false,
     "start_time": "2021-02-16T05:09:22.499883",
     "status": "completed"
    },
    "tags": []
   },
   "outputs": [],
   "source": [
    "pd.set_option('display.max_rows',None)\n",
    "pd.set_option('display.max_columns',None)\n",
    "pd.set_option('display.width',None)\n",
    "pd.set_option('display.max_colwidth',None)"
   ]
  },
  {
   "cell_type": "code",
   "execution_count": 4,
   "metadata": {
    "execution": {
     "iopub.execute_input": "2021-02-16T05:09:22.550231Z",
     "iopub.status.busy": "2021-02-16T05:09:22.549594Z",
     "iopub.status.idle": "2021-02-16T05:09:22.605222Z",
     "shell.execute_reply": "2021-02-16T05:09:22.604516Z"
    },
    "papermill": {
     "duration": 0.072623,
     "end_time": "2021-02-16T05:09:22.605371",
     "exception": false,
     "start_time": "2021-02-16T05:09:22.532748",
     "status": "completed"
    },
    "tags": []
   },
   "outputs": [],
   "source": [
    "housing = pd.read_csv(r\"../input/house-prices-advanced-regression-techniques/train.csv\")\n",
    "housing.drop(['Id'],axis=1,inplace=True)"
   ]
  },
  {
   "cell_type": "markdown",
   "metadata": {
    "papermill": {
     "duration": 0.012574,
     "end_time": "2021-02-16T05:09:22.630429",
     "exception": false,
     "start_time": "2021-02-16T05:09:22.617855",
     "status": "completed"
    },
    "tags": []
   },
   "source": [
    "# 1. Dealing with missing values"
   ]
  },
  {
   "cell_type": "code",
   "execution_count": 5,
   "metadata": {
    "execution": {
     "iopub.execute_input": "2021-02-16T05:09:22.669130Z",
     "iopub.status.busy": "2021-02-16T05:09:22.668085Z",
     "iopub.status.idle": "2021-02-16T05:09:22.680213Z",
     "shell.execute_reply": "2021-02-16T05:09:22.679651Z"
    },
    "papermill": {
     "duration": 0.037145,
     "end_time": "2021-02-16T05:09:22.680357",
     "exception": false,
     "start_time": "2021-02-16T05:09:22.643212",
     "status": "completed"
    },
    "tags": []
   },
   "outputs": [
    {
     "data": {
      "text/plain": [
       "PoolQC           1453\n",
       "MiscFeature      1406\n",
       "Alley            1369\n",
       "Fence            1179\n",
       "FireplaceQu       690\n",
       "LotFrontage       259\n",
       "GarageYrBlt        81\n",
       "GarageCond         81\n",
       "GarageType         81\n",
       "GarageFinish       81\n",
       "GarageQual         81\n",
       "BsmtExposure       38\n",
       "BsmtFinType2       38\n",
       "BsmtCond           37\n",
       "BsmtQual           37\n",
       "BsmtFinType1       37\n",
       "MasVnrArea          8\n",
       "MasVnrType          8\n",
       "Electrical          1\n",
       "MSSubClass          0\n",
       "Fireplaces          0\n",
       "Functional          0\n",
       "KitchenQual         0\n",
       "KitchenAbvGr        0\n",
       "BedroomAbvGr        0\n",
       "HalfBath            0\n",
       "FullBath            0\n",
       "BsmtHalfBath        0\n",
       "TotRmsAbvGrd        0\n",
       "GarageCars          0\n",
       "GrLivArea           0\n",
       "GarageArea          0\n",
       "PavedDrive          0\n",
       "WoodDeckSF          0\n",
       "OpenPorchSF         0\n",
       "EnclosedPorch       0\n",
       "3SsnPorch           0\n",
       "ScreenPorch         0\n",
       "PoolArea            0\n",
       "MiscVal             0\n",
       "MoSold              0\n",
       "YrSold              0\n",
       "SaleType            0\n",
       "SaleCondition       0\n",
       "BsmtFullBath        0\n",
       "CentralAir          0\n",
       "LowQualFinSF        0\n",
       "Neighborhood        0\n",
       "OverallCond         0\n",
       "OverallQual         0\n",
       "HouseStyle          0\n",
       "BldgType            0\n",
       "Condition2          0\n",
       "Condition1          0\n",
       "LandSlope           0\n",
       "2ndFlrSF            0\n",
       "LotConfig           0\n",
       "Utilities           0\n",
       "LandContour         0\n",
       "LotShape            0\n",
       "Street              0\n",
       "LotArea             0\n",
       "YearBuilt           0\n",
       "YearRemodAdd        0\n",
       "RoofStyle           0\n",
       "RoofMatl            0\n",
       "Exterior1st         0\n",
       "Exterior2nd         0\n",
       "ExterQual           0\n",
       "ExterCond           0\n",
       "Foundation          0\n",
       "BsmtFinSF1          0\n",
       "BsmtFinSF2          0\n",
       "BsmtUnfSF           0\n",
       "TotalBsmtSF         0\n",
       "Heating             0\n",
       "HeatingQC           0\n",
       "MSZoning            0\n",
       "1stFlrSF            0\n",
       "SalePrice           0\n",
       "dtype: int64"
      ]
     },
     "execution_count": 5,
     "metadata": {},
     "output_type": "execute_result"
    }
   ],
   "source": [
    "housing.isnull().sum().sort_values(ascending=False)"
   ]
  },
  {
   "cell_type": "markdown",
   "metadata": {
    "papermill": {
     "duration": 0.012993,
     "end_time": "2021-02-16T05:09:22.706409",
     "exception": false,
     "start_time": "2021-02-16T05:09:22.693416",
     "status": "completed"
    },
    "tags": []
   },
   "source": [
    "# 2. Fixing missing values explicitly\n"
   ]
  },
  {
   "cell_type": "code",
   "execution_count": 6,
   "metadata": {
    "execution": {
     "iopub.execute_input": "2021-02-16T05:09:22.746274Z",
     "iopub.status.busy": "2021-02-16T05:09:22.745268Z",
     "iopub.status.idle": "2021-02-16T05:09:22.796859Z",
     "shell.execute_reply": "2021-02-16T05:09:22.797579Z"
    },
    "papermill": {
     "duration": 0.078228,
     "end_time": "2021-02-16T05:09:22.797776",
     "exception": false,
     "start_time": "2021-02-16T05:09:22.719548",
     "status": "completed"
    },
    "tags": []
   },
   "outputs": [],
   "source": [
    "# Replacing categorical columns with None\n",
    "'''\n",
    "cat_columns = ['MSZoning', 'Street', 'Alley', 'LotShape', 'LandContour', 'Utilities',\n",
    "       'LotConfig', 'LandSlope', 'Neighborhood', 'Condition1', 'Condition2',\n",
    "       'BldgType', 'HouseStyle', 'RoofStyle', 'RoofMatl', 'Exterior1st',\n",
    "       'Exterior2nd', 'MasVnrType', 'ExterQual', 'ExterCond', 'Foundation',\n",
    "       'BsmtQual', 'BsmtCond', 'BsmtExposure', 'BsmtFinType1', 'BsmtFinType2',\n",
    "       'Heating', 'HeatingQC', 'CentralAir', 'Electrical', 'KitchenQual',\n",
    "       'Functional', 'FireplaceQu', 'GarageType', 'GarageFinish', 'GarageQual',\n",
    "       'GarageCond', 'PavedDrive', 'PoolQC', 'Fence', 'MiscFeature',\n",
    "       'SaleType', 'SaleCondition']\n",
    "'''\n",
    "df = housing\n",
    "cat_columns = df.select_dtypes(include=['object']).columns\n",
    "\n",
    "for col in cat_columns:\n",
    "    df[col] = df[col].fillna(\"None\")\n",
    "\n",
    "#Changing LotFrontage to mean LotFrontage in the same Neighborhood\n",
    "df['LotFrontage'] = df.groupby('Neighborhood')['LotFrontage'].transform(lambda x: x.fillna(x.median()))\n",
    "\n",
    "#Replacing numerical column null values with 0\n",
    "num_columns = df.select_dtypes(exclude=['object']).columns\n",
    "for col in num_columns:\n",
    "    if col is not 'Electrical':\n",
    "        df[col] = df[col].fillna(int(0))\n",
    "\n",
    "#Replacing 'Electrical' with mode\n",
    "df['Electrical'] = df['Electrical'].fillna(df['Electrical'].mode()[0])\n",
    "\n",
    "#Dropping Utilities\n",
    "df = df.drop(['Utilities'],axis=1)"
   ]
  },
  {
   "cell_type": "code",
   "execution_count": 7,
   "metadata": {
    "execution": {
     "iopub.execute_input": "2021-02-16T05:09:22.835514Z",
     "iopub.status.busy": "2021-02-16T05:09:22.834608Z",
     "iopub.status.idle": "2021-02-16T05:09:22.862400Z",
     "shell.execute_reply": "2021-02-16T05:09:22.861762Z"
    },
    "papermill": {
     "duration": 0.051533,
     "end_time": "2021-02-16T05:09:22.862538",
     "exception": false,
     "start_time": "2021-02-16T05:09:22.811005",
     "status": "completed"
    },
    "tags": []
   },
   "outputs": [
    {
     "data": {
      "text/plain": [
       "0"
      ]
     },
     "execution_count": 7,
     "metadata": {},
     "output_type": "execute_result"
    }
   ],
   "source": [
    "#Checking the count of null values again\n",
    "df.isnull().apply(sum).max()"
   ]
  },
  {
   "cell_type": "code",
   "execution_count": 8,
   "metadata": {
    "execution": {
     "iopub.execute_input": "2021-02-16T05:09:22.904759Z",
     "iopub.status.busy": "2021-02-16T05:09:22.904098Z",
     "iopub.status.idle": "2021-02-16T05:09:22.922901Z",
     "shell.execute_reply": "2021-02-16T05:09:22.922216Z"
    },
    "papermill": {
     "duration": 0.046126,
     "end_time": "2021-02-16T05:09:22.923071",
     "exception": false,
     "start_time": "2021-02-16T05:09:22.876945",
     "status": "completed"
    },
    "tags": []
   },
   "outputs": [
    {
     "name": "stdout",
     "output_type": "stream",
     "text": [
      "<class 'pandas.core.frame.DataFrame'>\n",
      "RangeIndex: 1460 entries, 0 to 1459\n",
      "Data columns (total 79 columns):\n",
      " #   Column         Non-Null Count  Dtype  \n",
      "---  ------         --------------  -----  \n",
      " 0   MSSubClass     1460 non-null   int64  \n",
      " 1   MSZoning       1460 non-null   object \n",
      " 2   LotFrontage    1460 non-null   float64\n",
      " 3   LotArea        1460 non-null   int64  \n",
      " 4   Street         1460 non-null   object \n",
      " 5   Alley          1460 non-null   object \n",
      " 6   LotShape       1460 non-null   object \n",
      " 7   LandContour    1460 non-null   object \n",
      " 8   LotConfig      1460 non-null   object \n",
      " 9   LandSlope      1460 non-null   object \n",
      " 10  Neighborhood   1460 non-null   object \n",
      " 11  Condition1     1460 non-null   object \n",
      " 12  Condition2     1460 non-null   object \n",
      " 13  BldgType       1460 non-null   object \n",
      " 14  HouseStyle     1460 non-null   object \n",
      " 15  OverallQual    1460 non-null   int64  \n",
      " 16  OverallCond    1460 non-null   int64  \n",
      " 17  YearBuilt      1460 non-null   int64  \n",
      " 18  YearRemodAdd   1460 non-null   int64  \n",
      " 19  RoofStyle      1460 non-null   object \n",
      " 20  RoofMatl       1460 non-null   object \n",
      " 21  Exterior1st    1460 non-null   object \n",
      " 22  Exterior2nd    1460 non-null   object \n",
      " 23  MasVnrType     1460 non-null   object \n",
      " 24  MasVnrArea     1460 non-null   float64\n",
      " 25  ExterQual      1460 non-null   object \n",
      " 26  ExterCond      1460 non-null   object \n",
      " 27  Foundation     1460 non-null   object \n",
      " 28  BsmtQual       1460 non-null   object \n",
      " 29  BsmtCond       1460 non-null   object \n",
      " 30  BsmtExposure   1460 non-null   object \n",
      " 31  BsmtFinType1   1460 non-null   object \n",
      " 32  BsmtFinSF1     1460 non-null   int64  \n",
      " 33  BsmtFinType2   1460 non-null   object \n",
      " 34  BsmtFinSF2     1460 non-null   int64  \n",
      " 35  BsmtUnfSF      1460 non-null   int64  \n",
      " 36  TotalBsmtSF    1460 non-null   int64  \n",
      " 37  Heating        1460 non-null   object \n",
      " 38  HeatingQC      1460 non-null   object \n",
      " 39  CentralAir     1460 non-null   object \n",
      " 40  Electrical     1460 non-null   object \n",
      " 41  1stFlrSF       1460 non-null   int64  \n",
      " 42  2ndFlrSF       1460 non-null   int64  \n",
      " 43  LowQualFinSF   1460 non-null   int64  \n",
      " 44  GrLivArea      1460 non-null   int64  \n",
      " 45  BsmtFullBath   1460 non-null   int64  \n",
      " 46  BsmtHalfBath   1460 non-null   int64  \n",
      " 47  FullBath       1460 non-null   int64  \n",
      " 48  HalfBath       1460 non-null   int64  \n",
      " 49  BedroomAbvGr   1460 non-null   int64  \n",
      " 50  KitchenAbvGr   1460 non-null   int64  \n",
      " 51  KitchenQual    1460 non-null   object \n",
      " 52  TotRmsAbvGrd   1460 non-null   int64  \n",
      " 53  Functional     1460 non-null   object \n",
      " 54  Fireplaces     1460 non-null   int64  \n",
      " 55  FireplaceQu    1460 non-null   object \n",
      " 56  GarageType     1460 non-null   object \n",
      " 57  GarageYrBlt    1460 non-null   float64\n",
      " 58  GarageFinish   1460 non-null   object \n",
      " 59  GarageCars     1460 non-null   int64  \n",
      " 60  GarageArea     1460 non-null   int64  \n",
      " 61  GarageQual     1460 non-null   object \n",
      " 62  GarageCond     1460 non-null   object \n",
      " 63  PavedDrive     1460 non-null   object \n",
      " 64  WoodDeckSF     1460 non-null   int64  \n",
      " 65  OpenPorchSF    1460 non-null   int64  \n",
      " 66  EnclosedPorch  1460 non-null   int64  \n",
      " 67  3SsnPorch      1460 non-null   int64  \n",
      " 68  ScreenPorch    1460 non-null   int64  \n",
      " 69  PoolArea       1460 non-null   int64  \n",
      " 70  PoolQC         1460 non-null   object \n",
      " 71  Fence          1460 non-null   object \n",
      " 72  MiscFeature    1460 non-null   object \n",
      " 73  MiscVal        1460 non-null   int64  \n",
      " 74  MoSold         1460 non-null   int64  \n",
      " 75  YrSold         1460 non-null   int64  \n",
      " 76  SaleType       1460 non-null   object \n",
      " 77  SaleCondition  1460 non-null   object \n",
      " 78  SalePrice      1460 non-null   int64  \n",
      "dtypes: float64(3), int64(34), object(42)\n",
      "memory usage: 901.2+ KB\n"
     ]
    }
   ],
   "source": [
    "df.info()"
   ]
  },
  {
   "cell_type": "markdown",
   "metadata": {
    "papermill": {
     "duration": 0.013875,
     "end_time": "2021-02-16T05:09:22.951289",
     "exception": false,
     "start_time": "2021-02-16T05:09:22.937414",
     "status": "completed"
    },
    "tags": []
   },
   "source": [
    "# 3. Dealing with Outliers"
   ]
  },
  {
   "cell_type": "code",
   "execution_count": 9,
   "metadata": {
    "execution": {
     "iopub.execute_input": "2021-02-16T05:09:22.987077Z",
     "iopub.status.busy": "2021-02-16T05:09:22.986404Z",
     "iopub.status.idle": "2021-02-16T05:09:23.086366Z",
     "shell.execute_reply": "2021-02-16T05:09:23.085778Z"
    },
    "papermill": {
     "duration": 0.120982,
     "end_time": "2021-02-16T05:09:23.086512",
     "exception": false,
     "start_time": "2021-02-16T05:09:22.965530",
     "status": "completed"
    },
    "tags": []
   },
   "outputs": [
    {
     "name": "stdout",
     "output_type": "stream",
     "text": [
      "<class 'pandas.core.frame.DataFrame'>\n",
      "Int64Index: 1422 entries, 0 to 1458\n",
      "Data columns (total 79 columns):\n",
      " #   Column         Non-Null Count  Dtype  \n",
      "---  ------         --------------  -----  \n",
      " 0   MSSubClass     1422 non-null   int64  \n",
      " 1   MSZoning       1422 non-null   object \n",
      " 2   LotFrontage    1422 non-null   float64\n",
      " 3   LotArea        1422 non-null   int64  \n",
      " 4   Street         1422 non-null   object \n",
      " 5   Alley          1422 non-null   object \n",
      " 6   LotShape       1422 non-null   object \n",
      " 7   LandContour    1422 non-null   object \n",
      " 8   LotConfig      1422 non-null   object \n",
      " 9   LandSlope      1422 non-null   object \n",
      " 10  Neighborhood   1422 non-null   object \n",
      " 11  Condition1     1422 non-null   object \n",
      " 12  Condition2     1422 non-null   object \n",
      " 13  BldgType       1422 non-null   object \n",
      " 14  HouseStyle     1422 non-null   object \n",
      " 15  OverallQual    1422 non-null   int64  \n",
      " 16  OverallCond    1422 non-null   int64  \n",
      " 17  YearBuilt      1422 non-null   int64  \n",
      " 18  YearRemodAdd   1422 non-null   int64  \n",
      " 19  RoofStyle      1422 non-null   object \n",
      " 20  RoofMatl       1422 non-null   object \n",
      " 21  Exterior1st    1422 non-null   object \n",
      " 22  Exterior2nd    1422 non-null   object \n",
      " 23  MasVnrType     1422 non-null   object \n",
      " 24  MasVnrArea     1422 non-null   float64\n",
      " 25  ExterQual      1422 non-null   object \n",
      " 26  ExterCond      1422 non-null   object \n",
      " 27  Foundation     1422 non-null   object \n",
      " 28  BsmtQual       1422 non-null   object \n",
      " 29  BsmtCond       1422 non-null   object \n",
      " 30  BsmtExposure   1422 non-null   object \n",
      " 31  BsmtFinType1   1422 non-null   object \n",
      " 32  BsmtFinSF1     1422 non-null   int64  \n",
      " 33  BsmtFinType2   1422 non-null   object \n",
      " 34  BsmtFinSF2     1422 non-null   int64  \n",
      " 35  BsmtUnfSF      1422 non-null   int64  \n",
      " 36  TotalBsmtSF    1422 non-null   int64  \n",
      " 37  Heating        1422 non-null   object \n",
      " 38  HeatingQC      1422 non-null   object \n",
      " 39  CentralAir     1422 non-null   object \n",
      " 40  Electrical     1422 non-null   object \n",
      " 41  1stFlrSF       1422 non-null   int64  \n",
      " 42  2ndFlrSF       1422 non-null   int64  \n",
      " 43  LowQualFinSF   1422 non-null   int64  \n",
      " 44  GrLivArea      1422 non-null   int64  \n",
      " 45  BsmtFullBath   1422 non-null   int64  \n",
      " 46  BsmtHalfBath   1422 non-null   int64  \n",
      " 47  FullBath       1422 non-null   int64  \n",
      " 48  HalfBath       1422 non-null   int64  \n",
      " 49  BedroomAbvGr   1422 non-null   int64  \n",
      " 50  KitchenAbvGr   1422 non-null   int64  \n",
      " 51  KitchenQual    1422 non-null   object \n",
      " 52  TotRmsAbvGrd   1422 non-null   int64  \n",
      " 53  Functional     1422 non-null   object \n",
      " 54  Fireplaces     1422 non-null   int64  \n",
      " 55  FireplaceQu    1422 non-null   object \n",
      " 56  GarageType     1422 non-null   object \n",
      " 57  GarageYrBlt    1422 non-null   float64\n",
      " 58  GarageFinish   1422 non-null   object \n",
      " 59  GarageCars     1422 non-null   int64  \n",
      " 60  GarageArea     1422 non-null   int64  \n",
      " 61  GarageQual     1422 non-null   object \n",
      " 62  GarageCond     1422 non-null   object \n",
      " 63  PavedDrive     1422 non-null   object \n",
      " 64  WoodDeckSF     1422 non-null   int64  \n",
      " 65  OpenPorchSF    1422 non-null   int64  \n",
      " 66  EnclosedPorch  1422 non-null   int64  \n",
      " 67  3SsnPorch      1422 non-null   int64  \n",
      " 68  ScreenPorch    1422 non-null   int64  \n",
      " 69  PoolArea       1422 non-null   int64  \n",
      " 70  PoolQC         1422 non-null   object \n",
      " 71  Fence          1422 non-null   object \n",
      " 72  MiscFeature    1422 non-null   object \n",
      " 73  MiscVal        1422 non-null   int64  \n",
      " 74  MoSold         1422 non-null   int64  \n",
      " 75  YrSold         1422 non-null   int64  \n",
      " 76  SaleType       1422 non-null   object \n",
      " 77  SaleCondition  1422 non-null   object \n",
      " 78  SalePrice      1422 non-null   int64  \n",
      "dtypes: float64(3), int64(34), object(42)\n",
      "memory usage: 921.0+ KB\n"
     ]
    }
   ],
   "source": [
    "# Removing noisy data which is above 0.999 quantile\n",
    "num_attributes = df[num_columns]\n",
    "\n",
    "high_quant = df.quantile(.999)\n",
    "\n",
    "for col in num_columns:\n",
    "    df = df.drop(df[col][df[col]>high_quant[col]].index)\n",
    "\n",
    "df.info()"
   ]
  },
  {
   "cell_type": "markdown",
   "metadata": {
    "papermill": {
     "duration": 0.014352,
     "end_time": "2021-02-16T05:09:23.115649",
     "exception": false,
     "start_time": "2021-02-16T05:09:23.101297",
     "status": "completed"
    },
    "tags": []
   },
   "source": [
    "# 4. Dealing with correlated attributes"
   ]
  },
  {
   "cell_type": "code",
   "execution_count": 10,
   "metadata": {
    "execution": {
     "iopub.execute_input": "2021-02-16T05:09:23.153890Z",
     "iopub.status.busy": "2021-02-16T05:09:23.153186Z",
     "iopub.status.idle": "2021-02-16T05:09:23.156578Z",
     "shell.execute_reply": "2021-02-16T05:09:23.157036Z"
    },
    "papermill": {
     "duration": 0.026956,
     "end_time": "2021-02-16T05:09:23.157210",
     "exception": false,
     "start_time": "2021-02-16T05:09:23.130254",
     "status": "completed"
    },
    "tags": []
   },
   "outputs": [],
   "source": [
    "# Removing highly correlated features calculated in the EDA Notebook while viewing scatter plot and corr values\n",
    "\n",
    "attributes_drop = ['MiscVal', 'MoSold', 'YrSold', 'BsmtFinSF2', 'BsmtHalfBath', 'MSSubClass', 'GarageArea',\n",
    "                  'GarageYrBlt', '3SsnPorch']\n",
    "df.drop(attributes_drop, axis=1, inplace=True)\n",
    "\n",
    "# Removing columns with lots of missing values - PoolQC: 1453, MiscFeature: 1406, Alley: 1369, Fence: 1179\n",
    "attributes_drop = ['PoolQC', 'MiscFeature', 'Alley', 'Fence']\n",
    "df.drop(attributes_drop, axis=1, inplace=True)"
   ]
  },
  {
   "cell_type": "markdown",
   "metadata": {
    "papermill": {
     "duration": 0.014865,
     "end_time": "2021-02-16T05:09:23.187068",
     "exception": false,
     "start_time": "2021-02-16T05:09:23.172203",
     "status": "completed"
    },
    "tags": []
   },
   "source": [
    "# 5. Handling Text and Categorical Values"
   ]
  },
  {
   "cell_type": "code",
   "execution_count": 11,
   "metadata": {
    "execution": {
     "iopub.execute_input": "2021-02-16T05:09:23.223360Z",
     "iopub.status.busy": "2021-02-16T05:09:23.222666Z",
     "iopub.status.idle": "2021-02-16T05:09:23.227534Z",
     "shell.execute_reply": "2021-02-16T05:09:23.228084Z"
    },
    "papermill": {
     "duration": 0.026276,
     "end_time": "2021-02-16T05:09:23.228261",
     "exception": false,
     "start_time": "2021-02-16T05:09:23.201985",
     "status": "completed"
    },
    "tags": []
   },
   "outputs": [
    {
     "data": {
      "text/plain": [
       "Index(['MSZoning', 'Street', 'LotShape', 'LandContour', 'LotConfig',\n",
       "       'LandSlope', 'Neighborhood', 'Condition1', 'Condition2', 'BldgType',\n",
       "       'HouseStyle', 'RoofStyle', 'RoofMatl', 'Exterior1st', 'Exterior2nd',\n",
       "       'MasVnrType', 'ExterQual', 'ExterCond', 'Foundation', 'BsmtQual',\n",
       "       'BsmtCond', 'BsmtExposure', 'BsmtFinType1', 'BsmtFinType2', 'Heating',\n",
       "       'HeatingQC', 'CentralAir', 'Electrical', 'KitchenQual', 'Functional',\n",
       "       'FireplaceQu', 'GarageType', 'GarageFinish', 'GarageQual', 'GarageCond',\n",
       "       'PavedDrive', 'SaleType', 'SaleCondition'],\n",
       "      dtype='object')"
      ]
     },
     "execution_count": 11,
     "metadata": {},
     "output_type": "execute_result"
    }
   ],
   "source": [
    "df.select_dtypes(include=['object']).columns"
   ]
  },
  {
   "cell_type": "code",
   "execution_count": 12,
   "metadata": {
    "execution": {
     "iopub.execute_input": "2021-02-16T05:09:23.261810Z",
     "iopub.status.busy": "2021-02-16T05:09:23.261190Z",
     "iopub.status.idle": "2021-02-16T05:09:23.317975Z",
     "shell.execute_reply": "2021-02-16T05:09:23.318500Z"
    },
    "papermill": {
     "duration": 0.075218,
     "end_time": "2021-02-16T05:09:23.318683",
     "exception": false,
     "start_time": "2021-02-16T05:09:23.243465",
     "status": "completed"
    },
    "tags": []
   },
   "outputs": [
    {
     "data": {
      "text/plain": [
       "<1422x7325 sparse matrix of type '<class 'numpy.float64'>'\n",
       "\twith 93852 stored elements in Compressed Sparse Row format>"
      ]
     },
     "execution_count": 12,
     "metadata": {},
     "output_type": "execute_result"
    }
   ],
   "source": [
    "# Transforming Categorial variables using OneHotEncoder\n",
    "cat_encoder = OneHotEncoder()\n",
    "df_cat_processed = cat_encoder.fit_transform(df)\n",
    "df_cat_processed"
   ]
  },
  {
   "cell_type": "code",
   "execution_count": 13,
   "metadata": {
    "execution": {
     "iopub.execute_input": "2021-02-16T05:09:23.353527Z",
     "iopub.status.busy": "2021-02-16T05:09:23.352842Z",
     "iopub.status.idle": "2021-02-16T05:09:23.392927Z",
     "shell.execute_reply": "2021-02-16T05:09:23.392266Z"
    },
    "papermill": {
     "duration": 0.058459,
     "end_time": "2021-02-16T05:09:23.393112",
     "exception": false,
     "start_time": "2021-02-16T05:09:23.334653",
     "status": "completed"
    },
    "tags": []
   },
   "outputs": [],
   "source": [
    "df.to_csv('output.csv')"
   ]
  },
  {
   "cell_type": "code",
   "execution_count": null,
   "metadata": {
    "papermill": {
     "duration": 0.015626,
     "end_time": "2021-02-16T05:09:23.424799",
     "exception": false,
     "start_time": "2021-02-16T05:09:23.409173",
     "status": "completed"
    },
    "tags": []
   },
   "outputs": [],
   "source": []
  }
 ],
 "metadata": {
  "kernelspec": {
   "display_name": "Python 3",
   "language": "python",
   "name": "python3"
  },
  "language_info": {
   "codemirror_mode": {
    "name": "ipython",
    "version": 3
   },
   "file_extension": ".py",
   "mimetype": "text/x-python",
   "name": "python",
   "nbconvert_exporter": "python",
   "pygments_lexer": "ipython3",
   "version": "3.7.9"
  },
  "papermill": {
   "default_parameters": {},
   "duration": 8.077921,
   "end_time": "2021-02-16T05:09:24.050045",
   "environment_variables": {},
   "exception": null,
   "input_path": "__notebook__.ipynb",
   "output_path": "__notebook__.ipynb",
   "parameters": {},
   "start_time": "2021-02-16T05:09:15.972124",
   "version": "2.2.2"
  }
 },
 "nbformat": 4,
 "nbformat_minor": 4
}
